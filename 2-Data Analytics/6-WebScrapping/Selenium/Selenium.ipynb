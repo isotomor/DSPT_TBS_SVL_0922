{
 "cells": [
  {
   "cell_type": "markdown",
   "metadata": {},
   "source": [
    "# Web Scraping: Selenium"
   ]
  },
  {
   "cell_type": "markdown",
   "metadata": {},
   "source": [
    "A menudo, los datos están disponibles públicamente para nosotros, pero no en una forma que sea fácilmente utilizable. Ahí es donde entra en juego el web scraping, podemos usar web scraping para obtener nuestros datos deseados en un formato conveniente que luego se puede usar. a continuación, mostraré cómo se puede extraer información de interés de un sitio web usando el paquete Selenium en Python. Selenium nos permite manejar una ventana del navegador e interactuar con el sitio web mediante programación. \n",
    "\n",
    "Selenium también tiene varios métodos que facilitan la extracción de datos.\n",
    "En este Jupyter Notebook vamos a usar Python 3 en Windows.\n",
    "\n",
    "En primer lugar, tendremos que descargar un controlador.\n",
    "\n",
    "Usaremos ChromeDriver para Google Chrome. Para obtener una lista completa de controladores y plataformas compatibles, consulte [Selenium](https://www.selenium.dev/downloads/). Si desea utilizar Google Chrome, diríjase a [chrome](https://chromedriver.chromium.org/) y descargue el controlador que corresponde a su versión actual de Google Chrome.\n",
    "\n",
    "Como saber cual es la version de chrome que utilizo simple utilizamos pegamos el siguiente enlace en la barra de chrome chrome://settings/help\n",
    "\n",
    "Antes de comenzar se preguntaran si ya se BeautifulSoup cual es la diferencia con Selenium.\n",
    "\n",
    "A diferencia BeautifulSoup, Selenium no trabaja con el texto fuente en HTML de la web en cuestión, sino que carga la página en un navegador sin interfaz de usuario. El navegador interpreta entonces el código fuente de la página y crea, a partir de él, un Document Object Model (modelo de objetos de documento o DOM). Esta interfaz estandarizada permite poner a prueba las interacciones de los usuarios. De esta forma se consigue, por ejemplo, simular clics y rellenar formularios automáticamente. Los cambios en la web que resultan de dichas acciones se reflejan en el DOM. La estructura del proceso de web scraping con Selenium es la siguiente:\n",
    "\n",
    "URL → Solicitud HTTP → HTML → Selenium → DOM\n",
    "\n"
   ]
  },
  {
   "cell_type": "markdown",
   "metadata": {},
   "source": [
    "## Comencemos importando las bibliotecas que usaremos:"
   ]
  },
  {
   "cell_type": "code",
   "execution_count": 1,
   "metadata": {
    "ExecuteTime": {
     "end_time": "2021-02-26T12:16:59.303652Z",
     "start_time": "2021-02-26T12:16:59.300657Z"
    }
   },
   "outputs": [],
   "source": [
    "from selenium import webdriver\n",
    "import urllib3 # urllib3 es un cliente HTTP potente y fácil de usar para Python.\n",
    "import re # Expresiones regulares \n",
    "import time\n",
    "import pandas as pd"
   ]
  },
  {
   "cell_type": "code",
   "execution_count": 2,
   "metadata": {},
   "outputs": [],
   "source": [
    "from selenium.webdriver.common.by import By"
   ]
  },
  {
   "cell_type": "markdown",
   "metadata": {},
   "source": [
    "El objeto driver es con el que trabajaremos a partir de ahora"
   ]
  },
  {
   "cell_type": "code",
   "execution_count": 3,
   "metadata": {
    "ExecuteTime": {
     "end_time": "2021-02-26T10:22:46.333679Z",
     "start_time": "2021-02-26T10:22:45.178780Z"
    }
   },
   "outputs": [],
   "source": [
    "# especificamos el path hasta nuestro driver recién descargado:\n",
    "chrome_driver_path = 'chromedriver.exe'\n",
    "options  = webdriver.ChromeOptions()"
   ]
  },
  {
   "cell_type": "code",
   "execution_count": 4,
   "metadata": {},
   "outputs": [
    {
     "name": "stderr",
     "output_type": "stream",
     "text": [
      "C:\\Users\\debor\\AppData\\Local\\Temp\\ipykernel_13628\\2445550838.py:2: DeprecationWarning: executable_path has been deprecated, please pass in a Service object\n",
      "  driver = webdriver.Chrome(executable_path = chrome_driver_path, options = options)\n"
     ]
    }
   ],
   "source": [
    "# Creamos el driver con el que nos vamos a manejar en la sesión de scrapeo:\n",
    "driver = webdriver.Chrome(executable_path = chrome_driver_path, options = options)"
   ]
  },
  {
   "cell_type": "code",
   "execution_count": null,
   "metadata": {},
   "outputs": [],
   "source": [
    "# driver = webdriver.Firefox(executable_path='geckodriver.exe')\n",
    "\n",
    "# from selenium.webdriver.firefox.options import Options\n",
    "# options = Options()\n",
    "# options.binary_location = \"C:\\Program Files\\Mozilla Firefox\\firefox.exe\"\n",
    "# driver = webdriver.Firefox(executable_path='geckodriver', options=options)\n",
    "# driver.get('http://google.com/')"
   ]
  },
  {
   "cell_type": "code",
   "execution_count": 5,
   "metadata": {},
   "outputs": [],
   "source": [
    "# indicamos la URL de la página web a la que queremos acceder:\n",
    "url = 'https://insolvencyinsider.ca/filing/'\n",
    "# el objeto driver nos va a permitir alterar el estado del la página\n",
    "driver.get(url)"
   ]
  },
  {
   "cell_type": "markdown",
   "metadata": {},
   "source": [
    "Ahora si queremos hacer click en el boton de \"Load more\".."
   ]
  },
  {
   "attachments": {},
   "cell_type": "markdown",
   "metadata": {},
   "source": [
    "Selenium proporciona varios métodos para localizar elementos en la página web. Usaremos el método find_element(\"xpath\",) para crear un objeto de botón, con el que luego podremos interactuar:"
   ]
  },
  {
   "cell_type": "markdown",
   "metadata": {},
   "source": [
    "/html/body/div[2]/div/main/div/div/div/button"
   ]
  },
  {
   "cell_type": "code",
   "execution_count": 6,
   "metadata": {},
   "outputs": [],
   "source": [
    "loadMore = driver.find_element(\"xpath\",\"//*[@id='content']/button\")"
   ]
  },
  {
   "cell_type": "code",
   "execution_count": 7,
   "metadata": {},
   "outputs": [
    {
     "name": "stdout",
     "output_type": "stream",
     "text": [
      "<selenium.webdriver.remote.webelement.WebElement (session=\"9f71e614a63eb8359b9a34051da59884\", element=\"cb02b591-02b0-4d70-beef-06f30fee4bb4\")>\n"
     ]
    }
   ],
   "source": [
    "print(loadMore)"
   ]
  },
  {
   "cell_type": "markdown",
   "metadata": {},
   "source": [
    "Antes de continuar, necesitaremos saber cuántas páginas hay para saber cuántas veces debemos hacer clic en el botón. Necesitaremos una forma de extraer el código fuente del sitio web. Afortunadamente, este proceso es relativamente sencillo con las bibliotecas urllib3 y re."
   ]
  },
  {
   "cell_type": "code",
   "execution_count": 8,
   "metadata": {},
   "outputs": [],
   "source": [
    "url = \"https://insolvencyinsider.ca/filing/\"\n",
    "http = urllib3.PoolManager()\n",
    "r = http.request(\"GET\", url)\n",
    "text = str(r.data)\n"
   ]
  },
  {
   "cell_type": "markdown",
   "metadata": {},
   "source": [
    "```text``` ahora es una cadena. Ahora, necesitamos una forma de extraer total_pages de nuestra cadena de texto. Imprima texto para ver cómo podemos extraerlo usando RegEx con el paquete re. Podemos totalizar_páginas así:"
   ]
  },
  {
   "cell_type": "code",
   "execution_count": 9,
   "metadata": {},
   "outputs": [],
   "source": [
    "totalPagesObj = re.search(pattern='\"total_pages\":\\d+', string=text)\n",
    "totalPagesStr = totalPagesObj.group(0)\n",
    "totalPages = int((re.search(pattern=\"\\d+\", string=totalPagesStr)).group(0))"
   ]
  },
  {
   "cell_type": "markdown",
   "metadata": {},
   "source": [
    "El método de búsqueda toma un patrón y una cadena. En este caso nuestro patrón es '\"total_pages\":\\d+' . Si no está familiarizado con RegEx, todo esto significa que estamos buscando la cadena \"total_pages\": con dos o más dígitos después de los dos puntos. \\d se refiere a un dígito entre 0 y 9, mientras que + indica que Python debe buscar una o más de las expresiones regulares anteriores. Puedes leer más sobre el paquete re aquí. El método search() devuelve un objeto Match. re proporciona el método group() que devuelve uno o más subgrupos de la coincidencia. Pasamos 0 como argumento para indicar que queremos el parche completo. La tercera línea simplemente extrae el entero correspondiente a total_pages de la cadena."
   ]
  },
  {
   "cell_type": "code",
   "execution_count": 10,
   "metadata": {},
   "outputs": [
    {
     "name": "stdout",
     "output_type": "stream",
     "text": [
      "<re.Match object; span=(108880, 108897), match='\"total_pages\":106'>\n",
      "\"total_pages\":106\n",
      "106\n"
     ]
    }
   ],
   "source": [
    "print(totalPagesObj)\n",
    "print(totalPagesStr)\n",
    "print(totalPages)"
   ]
  },
  {
   "cell_type": "markdown",
   "metadata": {},
   "source": [
    "Con eso completo, ahora podemos cargar todas las páginas de Insolvency Insider. Podemos hacer clic en el botón Cargar más accediendo al método click() del objeto. Esperamos tres segundos entre clics para no sobrecargar el sitio web."
   ]
  },
  {
   "cell_type": "markdown",
   "metadata": {},
   "source": [
    "Recuerde que el total de las páginas son 88 pero comenzamos en 0 asi que es 88-1"
   ]
  },
  {
   "cell_type": "code",
   "execution_count": 11,
   "metadata": {},
   "outputs": [],
   "source": [
    "for _ in range(10):\n",
    "    loadMore.click()\n",
    "    time.sleep(3)"
   ]
  },
  {
   "cell_type": "code",
   "execution_count": null,
   "metadata": {},
   "outputs": [],
   "source": [
    "for i in range(totalPages-1):\n",
    "    loadMore.click()\n",
    "    time.sleep(1)"
   ]
  },
  {
   "attachments": {},
   "cell_type": "markdown",
   "metadata": {},
   "source": [
    "Una vez que ejecute esto, debería ver que se hace clic en el botón Cargar más y que se cargan las páginas restantes.\n",
    "Una vez que se carga cada página, podemos comenzar a raspar el contenido. Ahora, eliminar ciertos elementos como el nombre de presentación, la fecha y la hiperreferencia es bastante sencillo. Podemos usar los métodos find_elements() y find_element('xpath',) de Selenium (importante la ```s``` extra después de element):"
   ]
  },
  {
   "attachments": {},
   "cell_type": "markdown",
   "metadata": {},
   "source": [
    "- filing-name\n",
    "- filing-date\n",
    "- //*[@id='content']/div[2]/div/div[1]/h3/a"
   ]
  },
  {
   "cell_type": "markdown",
   "metadata": {},
   "source": []
  },
  {
   "cell_type": "code",
   "execution_count": 12,
   "metadata": {},
   "outputs": [],
   "source": [
    "filingNamesElements = driver.find_elements(By.CLASS_NAME,\"filing-name\")\n",
    "\n",
    "filingDateElements = driver.find_elements(By.CLASS_NAME,\"filing-date\")\n",
    "\n",
    "filingHrefElements = driver.find_elements('xpath',\"//*[@id='content']/div[2]/div/div[1]/h3/a\")"
   ]
  },
  {
   "cell_type": "code",
   "execution_count": 13,
   "metadata": {},
   "outputs": [
    {
     "data": {
      "text/plain": [
       "110"
      ]
     },
     "execution_count": 13,
     "metadata": {},
     "output_type": "execute_result"
    }
   ],
   "source": [
    "len(filingNamesElements)"
   ]
  },
  {
   "cell_type": "markdown",
   "metadata": {},
   "source": [
    "También nos gustaría conocer los metadatos de presentación, es decir, el tipo de archivo, el sector de la empresa y el lugar en la que operan. Extraer estos datos requiere un poco más de trabajo."
   ]
  },
  {
   "cell_type": "markdown",
   "metadata": {},
   "source": [
    "//*[@id='content']/div[2]/div[%d]/div[2]/div[1]"
   ]
  },
  {
   "cell_type": "code",
   "execution_count": 19,
   "metadata": {},
   "outputs": [],
   "source": [
    "filingMetas = []\n",
    "for i in range(len(filingNamesElements) + 1):\n",
    "    filingMetai = driver.find_elements('xpath',(\"//*[@id='content']/div[2]/div[%d]/div[2]/div[1]\" %(i)))\n",
    "    # filingMetai = driver.find_elements(By.CLASS_NAME,'filing-meta')\n",
    "    for element in filingMetai:\n",
    "        filingMetaTexti = element.text\n",
    "        filingMetas.append(filingMetaTexti)"
   ]
  },
  {
   "cell_type": "markdown",
   "metadata": {},
   "source": [
    "De cada elemento de la presentación de Metas podemos extraer el tipo de presentación, la industria y la provincia, así:"
   ]
  },
  {
   "cell_type": "markdown",
   "metadata": {},
   "source": [
    "********"
   ]
  },
  {
   "cell_type": "code",
   "execution_count": 22,
   "metadata": {},
   "outputs": [],
   "source": [
    "metaDict = {\"Filing Type\": [], \"Industry\": [], \"Province\": []}\n",
    "for filing in filingMetas:\n",
    "    filingSplit = filing.split(\"\\n\")\n",
    "  \n",
    "    for item in filingSplit:\n",
    "        itemSplit = item.split(\":\")\n",
    "\n",
    "        \n",
    "        if itemSplit[0] == \"Filing Type\":\n",
    "            metaDict[\"Filing Type\"].append(itemSplit[1])\n",
    "        elif itemSplit[0] == \"Industry\":\n",
    "            metaDict[\"Industry\"].append(itemSplit[1])\n",
    "        elif itemSplit[0] == \"Province\":\n",
    "            metaDict[\"Province\"].append(itemSplit[1])\n",
    "            \n",
    "    if \"Filing Type\" not in filing:\n",
    "        metaDict[\"Filing Type\"].append(\"NA\")\n",
    "    elif \"Industry\" not in filing:\n",
    "        metaDict[\"Industry\"].append(\"NA\")\n",
    "    elif \"Province\" not in filing:\n",
    "        metaDict[\"Province\"].append(\"NA\")"
   ]
  },
  {
   "cell_type": "code",
   "execution_count": 23,
   "metadata": {},
   "outputs": [
    {
     "name": "stdout",
     "output_type": "stream",
     "text": [
      "110\n",
      "110\n",
      "110\n"
     ]
    }
   ],
   "source": [
    "for key in metaDict:\n",
    "    print(len(metaDict[key]))"
   ]
  },
  {
   "cell_type": "markdown",
   "metadata": {},
   "source": [
    "*********"
   ]
  },
  {
   "cell_type": "markdown",
   "metadata": {},
   "source": [
    "Ahora, todavía tenemos que poner nuestros nombres y fechas de presentación en las listas. Hacemos esto agregando el texto de cada elemento a una lista usando el método text() de antes:"
   ]
  },
  {
   "cell_type": "code",
   "execution_count": 24,
   "metadata": {},
   "outputs": [],
   "source": [
    "filingName = []\n",
    "filingDate = []\n",
    "filingLink = []\n",
    "# para cada elemento en la lista de elementos de nombre de archivo, agrega el\n",
    "# texto del elemento a la lista de nombres de archivo.\n",
    "for element in filingNamesElements:\n",
    "    filingName.append(element.text)\n",
    "# para cada elemento en la lista de elementos de la fecha de presentación, agrega el\n",
    "# texto del elemento a la lista de fechas de presentación.\n",
    "for element in filingDateElements:\n",
    "    filingDate.append(element.text)\n",
    "for link in filingHrefElements:\n",
    "    if link.get_attribute(\"href\"):\n",
    "        filingLink.append(link.get_attribute(\"href\"))"
   ]
  },
  {
   "cell_type": "markdown",
   "metadata": {},
   "source": [
    "Una vez que tengamos eso, estamos listos para poner todo en un diccionario y luego crear un DataFrame de pandas:"
   ]
  },
  {
   "cell_type": "code",
   "execution_count": 25,
   "metadata": {},
   "outputs": [],
   "source": [
    "# Crea un diccionario final con nombres y fechas de archivo.\n",
    "fullDict = {\n",
    "    \"Filing Name\": filingName,\n",
    "    \"Filing Date\": filingDate, \n",
    "    \"Filing Type\": metaDict[\"Filing Type\"],\n",
    "    \"Industry\": metaDict[\"Industry\"],\n",
    "    \"Province\": metaDict[\"Province\"],\n",
    "    \"Link\": filingLink\n",
    "}\n",
    "# Crea un DataFrame.\n",
    "df = pd.DataFrame(fullDict)\n",
    "df[\"Filing Date\"] = pd.to_datetime(df[\"Filing Date\"], infer_datetime_format=True)"
   ]
  },
  {
   "cell_type": "code",
   "execution_count": 26,
   "metadata": {},
   "outputs": [
    {
     "data": {
      "text/html": [
       "<div>\n",
       "<style scoped>\n",
       "    .dataframe tbody tr th:only-of-type {\n",
       "        vertical-align: middle;\n",
       "    }\n",
       "\n",
       "    .dataframe tbody tr th {\n",
       "        vertical-align: top;\n",
       "    }\n",
       "\n",
       "    .dataframe thead th {\n",
       "        text-align: right;\n",
       "    }\n",
       "</style>\n",
       "<table border=\"1\" class=\"dataframe\">\n",
       "  <thead>\n",
       "    <tr style=\"text-align: right;\">\n",
       "      <th></th>\n",
       "      <th>Filing Name</th>\n",
       "      <th>Filing Date</th>\n",
       "      <th>Filing Type</th>\n",
       "      <th>Industry</th>\n",
       "      <th>Province</th>\n",
       "      <th>Link</th>\n",
       "    </tr>\n",
       "  </thead>\n",
       "  <tbody>\n",
       "    <tr>\n",
       "      <th>0</th>\n",
       "      <td>Manitoba Clinic Medical Corporation (“Medco”)</td>\n",
       "      <td>2022-12-06</td>\n",
       "      <td>CCAA</td>\n",
       "      <td>Healthcare</td>\n",
       "      <td>Manitoba</td>\n",
       "      <td>https://insolvencyinsider.ca/filing/manitoba-c...</td>\n",
       "    </tr>\n",
       "    <tr>\n",
       "      <th>1</th>\n",
       "      <td>Nilex USA Inc. (“Nilex USA”)</td>\n",
       "      <td>2022-11-24</td>\n",
       "      <td>NOI</td>\n",
       "      <td>Construction</td>\n",
       "      <td>Alberta</td>\n",
       "      <td>https://insolvencyinsider.ca/filing/nilex-usa-...</td>\n",
       "    </tr>\n",
       "    <tr>\n",
       "      <th>2</th>\n",
       "      <td>Lightbox Enteprises Ltd. dba Dutch Love Cannabis</td>\n",
       "      <td>2022-11-24</td>\n",
       "      <td>CCAA</td>\n",
       "      <td>Cannabis</td>\n",
       "      <td>British Columbia</td>\n",
       "      <td>https://insolvencyinsider.ca/filing/lightbox-e...</td>\n",
       "    </tr>\n",
       "    <tr>\n",
       "      <th>3</th>\n",
       "      <td>Telewizja Polska Canada Inc. (AKA Polish Telev...</td>\n",
       "      <td>2022-11-23</td>\n",
       "      <td>Bankruptcy</td>\n",
       "      <td>Media</td>\n",
       "      <td>Ontario</td>\n",
       "      <td>https://insolvencyinsider.ca/filing/telewizja-...</td>\n",
       "    </tr>\n",
       "    <tr>\n",
       "      <th>4</th>\n",
       "      <td>1138969 Ontario Inc. (“113”)</td>\n",
       "      <td>2022-11-23</td>\n",
       "      <td>CCAA</td>\n",
       "      <td>Professional Services</td>\n",
       "      <td>Ontario</td>\n",
       "      <td>https://insolvencyinsider.ca/filing/1138969-on...</td>\n",
       "    </tr>\n",
       "    <tr>\n",
       "      <th>...</th>\n",
       "      <td>...</td>\n",
       "      <td>...</td>\n",
       "      <td>...</td>\n",
       "      <td>...</td>\n",
       "      <td>...</td>\n",
       "      <td>...</td>\n",
       "    </tr>\n",
       "    <tr>\n",
       "      <th>105</th>\n",
       "      <td>Home Solutions Corporation</td>\n",
       "      <td>2022-05-20</td>\n",
       "      <td>Bankruptcy</td>\n",
       "      <td>Manufacturing</td>\n",
       "      <td>Alberta</td>\n",
       "      <td>https://insolvencyinsider.ca/filing/home-solut...</td>\n",
       "    </tr>\n",
       "    <tr>\n",
       "      <th>106</th>\n",
       "      <td>Williams Telecommunications Corp.</td>\n",
       "      <td>2022-05-19</td>\n",
       "      <td>Receivership</td>\n",
       "      <td>Distribution</td>\n",
       "      <td>Ontario</td>\n",
       "      <td>https://insolvencyinsider.ca/filing/williams-t...</td>\n",
       "    </tr>\n",
       "    <tr>\n",
       "      <th>107</th>\n",
       "      <td>Terra Nova Mechanical Ltd.</td>\n",
       "      <td>2022-05-19</td>\n",
       "      <td>Receivership</td>\n",
       "      <td>Automotive</td>\n",
       "      <td>Alberta</td>\n",
       "      <td>https://insolvencyinsider.ca/filing/terra-nova...</td>\n",
       "    </tr>\n",
       "    <tr>\n",
       "      <th>108</th>\n",
       "      <td>Modern Acrylic Systems Ltd.</td>\n",
       "      <td>2022-05-18</td>\n",
       "      <td>Receivership</td>\n",
       "      <td>Professional Services</td>\n",
       "      <td>Manitoba</td>\n",
       "      <td>https://insolvencyinsider.ca/filing/modern-acr...</td>\n",
       "    </tr>\n",
       "    <tr>\n",
       "      <th>109</th>\n",
       "      <td>The Roman Catholic Episcopal Corporation of St...</td>\n",
       "      <td>2022-05-17</td>\n",
       "      <td>CCAA</td>\n",
       "      <td>Other</td>\n",
       "      <td>Newfoundland</td>\n",
       "      <td>https://insolvencyinsider.ca/filing/the-roman-...</td>\n",
       "    </tr>\n",
       "  </tbody>\n",
       "</table>\n",
       "<p>110 rows × 6 columns</p>\n",
       "</div>"
      ],
      "text/plain": [
       "                                           Filing Name Filing Date  \\\n",
       "0        Manitoba Clinic Medical Corporation (“Medco”)  2022-12-06   \n",
       "1                         Nilex USA Inc. (“Nilex USA”)  2022-11-24   \n",
       "2     Lightbox Enteprises Ltd. dba Dutch Love Cannabis  2022-11-24   \n",
       "3    Telewizja Polska Canada Inc. (AKA Polish Telev...  2022-11-23   \n",
       "4                         1138969 Ontario Inc. (“113”)  2022-11-23   \n",
       "..                                                 ...         ...   \n",
       "105                         Home Solutions Corporation  2022-05-20   \n",
       "106                  Williams Telecommunications Corp.  2022-05-19   \n",
       "107                         Terra Nova Mechanical Ltd.  2022-05-19   \n",
       "108                        Modern Acrylic Systems Ltd.  2022-05-18   \n",
       "109  The Roman Catholic Episcopal Corporation of St...  2022-05-17   \n",
       "\n",
       "       Filing Type                Industry           Province  \\\n",
       "0             CCAA              Healthcare           Manitoba   \n",
       "1              NOI            Construction            Alberta   \n",
       "2             CCAA                Cannabis   British Columbia   \n",
       "3       Bankruptcy                   Media            Ontario   \n",
       "4             CCAA   Professional Services            Ontario   \n",
       "..             ...                     ...                ...   \n",
       "105     Bankruptcy           Manufacturing            Alberta   \n",
       "106   Receivership            Distribution            Ontario   \n",
       "107   Receivership              Automotive            Alberta   \n",
       "108   Receivership   Professional Services           Manitoba   \n",
       "109           CCAA                   Other       Newfoundland   \n",
       "\n",
       "                                                  Link  \n",
       "0    https://insolvencyinsider.ca/filing/manitoba-c...  \n",
       "1    https://insolvencyinsider.ca/filing/nilex-usa-...  \n",
       "2    https://insolvencyinsider.ca/filing/lightbox-e...  \n",
       "3    https://insolvencyinsider.ca/filing/telewizja-...  \n",
       "4    https://insolvencyinsider.ca/filing/1138969-on...  \n",
       "..                                                 ...  \n",
       "105  https://insolvencyinsider.ca/filing/home-solut...  \n",
       "106  https://insolvencyinsider.ca/filing/williams-t...  \n",
       "107  https://insolvencyinsider.ca/filing/terra-nova...  \n",
       "108  https://insolvencyinsider.ca/filing/modern-acr...  \n",
       "109  https://insolvencyinsider.ca/filing/the-roman-...  \n",
       "\n",
       "[110 rows x 6 columns]"
      ]
     },
     "execution_count": 26,
     "metadata": {},
     "output_type": "execute_result"
    }
   ],
   "source": [
    "df"
   ]
  },
  {
   "cell_type": "markdown",
   "metadata": {},
   "source": [
    "------------------------"
   ]
  },
  {
   "cell_type": "markdown",
   "metadata": {},
   "source": [
    "# Ahora algo más visual"
   ]
  },
  {
   "cell_type": "code",
   "execution_count": 29,
   "metadata": {},
   "outputs": [
    {
     "name": "stderr",
     "output_type": "stream",
     "text": [
      "C:\\Users\\debor\\AppData\\Local\\Temp\\ipykernel_13628\\3395105876.py:1: DeprecationWarning: executable_path has been deprecated, please pass in a Service object\n",
      "  driver = webdriver.Chrome(executable_path = chrome_driver_path, options = options)\n"
     ]
    }
   ],
   "source": [
    "driver = webdriver.Chrome(executable_path = chrome_driver_path, options = options)"
   ]
  },
  {
   "cell_type": "code",
   "execution_count": 30,
   "metadata": {},
   "outputs": [],
   "source": [
    "# indicamos la URL de la página web a la que queremos acceder:\n",
    "url = 'https://www.filmaffinity.com/es/main.html'\n",
    "# el objeto driver nos va a permitir alterar el estado del la página\n",
    "driver.get(url)"
   ]
  },
  {
   "cell_type": "markdown",
   "metadata": {},
   "source": [
    "La página de Filmaffinity se ha abierto"
   ]
  },
  {
   "cell_type": "markdown",
   "metadata": {},
   "source": [
    "Pero...."
   ]
  },
  {
   "cell_type": "markdown",
   "metadata": {},
   "source": [
    "Nos hemos encontrado con un pop-up que nos pide aceptar cookies"
   ]
  },
  {
   "cell_type": "markdown",
   "metadata": {},
   "source": [
    "1. Buscamos el botón\n",
    "2. Hacemos click en el botón"
   ]
  },
  {
   "cell_type": "markdown",
   "metadata": {},
   "source": [
    "Vamos a quitar el boton para seguir"
   ]
  },
  {
   "cell_type": "code",
   "execution_count": 38,
   "metadata": {
    "ExecuteTime": {
     "end_time": "2021-02-26T10:22:48.546287Z",
     "start_time": "2021-02-26T10:22:48.489040Z"
    }
   },
   "outputs": [],
   "source": [
    "elements_by_tag = driver.find_elements(By.TAG_NAME,'button')\n",
    "elements_by_class_name = driver.find_elements(By.CLASS_NAME,'css-v43ltw')\n",
    "element_by_xpath = driver.find_element(\"xpath\",'/html/body/div[1]/div/div/div/div[2]/div/button[2]')"
   ]
  },
  {
   "cell_type": "code",
   "execution_count": 33,
   "metadata": {},
   "outputs": [
    {
     "data": {
      "text/plain": [
       "[<selenium.webdriver.remote.webelement.WebElement (session=\"0cd8219df28f89b6af6fd26dc6d64876\", element=\"ec97224a-cd9b-40cc-8b3f-ba948cbeb28c\")>,\n",
       " <selenium.webdriver.remote.webelement.WebElement (session=\"0cd8219df28f89b6af6fd26dc6d64876\", element=\"6634f24d-4cc5-4847-93bf-d0df90cbdd26\")>,\n",
       " <selenium.webdriver.remote.webelement.WebElement (session=\"0cd8219df28f89b6af6fd26dc6d64876\", element=\"c41770a8-f81b-4cbe-9baa-4500f337a8dd\")>]"
      ]
     },
     "execution_count": 33,
     "metadata": {},
     "output_type": "execute_result"
    }
   ],
   "source": [
    "elements_by_tag"
   ]
  },
  {
   "cell_type": "code",
   "execution_count": 34,
   "metadata": {},
   "outputs": [
    {
     "data": {
      "text/plain": [
       "[<selenium.webdriver.remote.webelement.WebElement (session=\"0cd8219df28f89b6af6fd26dc6d64876\", element=\"c41770a8-f81b-4cbe-9baa-4500f337a8dd\")>]"
      ]
     },
     "execution_count": 34,
     "metadata": {},
     "output_type": "execute_result"
    }
   ],
   "source": [
    "elements_by_class_name"
   ]
  },
  {
   "cell_type": "code",
   "execution_count": 39,
   "metadata": {},
   "outputs": [
    {
     "data": {
      "text/plain": [
       "<selenium.webdriver.remote.webelement.WebElement (session=\"0cd8219df28f89b6af6fd26dc6d64876\", element=\"c41770a8-f81b-4cbe-9baa-4500f337a8dd\")>"
      ]
     },
     "execution_count": 39,
     "metadata": {},
     "output_type": "execute_result"
    }
   ],
   "source": [
    "element_by_xpath"
   ]
  },
  {
   "cell_type": "markdown",
   "metadata": {},
   "source": [
    "Una vez tenemos los elementos podemos hacer varias cosas con ellos"
   ]
  },
  {
   "cell_type": "markdown",
   "metadata": {},
   "source": [
    "Podemos extraer todos los atributos que tenga"
   ]
  },
  {
   "cell_type": "code",
   "execution_count": 35,
   "metadata": {
    "ExecuteTime": {
     "end_time": "2021-02-26T10:22:51.542538Z",
     "start_time": "2021-02-26T10:22:51.508077Z"
    }
   },
   "outputs": [
    {
     "data": {
      "text/plain": [
       "['__abstractmethods__',\n",
       " '__class__',\n",
       " '__delattr__',\n",
       " '__dict__',\n",
       " '__dir__',\n",
       " '__doc__',\n",
       " '__eq__',\n",
       " '__format__',\n",
       " '__ge__',\n",
       " '__getattribute__',\n",
       " '__getstate__',\n",
       " '__gt__',\n",
       " '__hash__',\n",
       " '__init__',\n",
       " '__init_subclass__',\n",
       " '__le__',\n",
       " '__lt__',\n",
       " '__module__',\n",
       " '__ne__',\n",
       " '__new__',\n",
       " '__reduce__',\n",
       " '__reduce_ex__',\n",
       " '__repr__',\n",
       " '__setattr__',\n",
       " '__sizeof__',\n",
       " '__str__',\n",
       " '__subclasshook__',\n",
       " '__weakref__',\n",
       " '_abc_impl',\n",
       " '_execute',\n",
       " '_id',\n",
       " '_parent',\n",
       " '_upload',\n",
       " 'accessible_name',\n",
       " 'aria_role',\n",
       " 'clear',\n",
       " 'click',\n",
       " 'find_element',\n",
       " 'find_elements',\n",
       " 'get_attribute',\n",
       " 'get_dom_attribute',\n",
       " 'get_property',\n",
       " 'id',\n",
       " 'is_displayed',\n",
       " 'is_enabled',\n",
       " 'is_selected',\n",
       " 'location',\n",
       " 'location_once_scrolled_into_view',\n",
       " 'parent',\n",
       " 'rect',\n",
       " 'screenshot',\n",
       " 'screenshot_as_base64',\n",
       " 'screenshot_as_png',\n",
       " 'send_keys',\n",
       " 'shadow_root',\n",
       " 'size',\n",
       " 'submit',\n",
       " 'tag_name',\n",
       " 'text',\n",
       " 'value_of_css_property']"
      ]
     },
     "execution_count": 35,
     "metadata": {},
     "output_type": "execute_result"
    }
   ],
   "source": [
    "dir(element_by_xpath)\n",
    "# obtenemos todos sus métodos y atributos:"
   ]
  },
  {
   "cell_type": "markdown",
   "metadata": {},
   "source": [
    "Podemos evaluar que tipo de elemento es (tag)"
   ]
  },
  {
   "cell_type": "code",
   "execution_count": 36,
   "metadata": {
    "ExecuteTime": {
     "end_time": "2021-02-26T10:22:53.325430Z",
     "start_time": "2021-02-26T10:22:53.306520Z"
    }
   },
   "outputs": [
    {
     "data": {
      "text/plain": [
       "'button'"
      ]
     },
     "execution_count": 36,
     "metadata": {},
     "output_type": "execute_result"
    }
   ],
   "source": [
    "element_by_xpath.tag_name"
   ]
  },
  {
   "cell_type": "markdown",
   "metadata": {},
   "source": [
    "Podemos sacar el valor que tiene (el texto)"
   ]
  },
  {
   "cell_type": "code",
   "execution_count": 40,
   "metadata": {
    "ExecuteTime": {
     "end_time": "2021-02-26T10:22:54.583190Z",
     "start_time": "2021-02-26T10:22:54.553596Z"
    }
   },
   "outputs": [
    {
     "data": {
      "text/plain": [
       "'ACEPTO'"
      ]
     },
     "execution_count": 40,
     "metadata": {},
     "output_type": "execute_result"
    }
   ],
   "source": [
    "element_by_xpath.text"
   ]
  },
  {
   "cell_type": "code",
   "execution_count": 41,
   "metadata": {},
   "outputs": [
    {
     "name": "stdout",
     "output_type": "stream",
     "text": [
      "socios\n",
      "MÁS OPCIONES\n",
      "ACEPTO\n"
     ]
    }
   ],
   "source": [
    "for i in range(0,len(elements_by_tag)):\n",
    "    print(elements_by_tag[i].text)"
   ]
  },
  {
   "cell_type": "markdown",
   "metadata": {},
   "source": [
    "Incluso podemos guardar una imagen del elemento"
   ]
  },
  {
   "cell_type": "code",
   "execution_count": 42,
   "metadata": {},
   "outputs": [
    {
     "data": {
      "text/plain": [
       "selenium.webdriver.remote.webelement.WebElement"
      ]
     },
     "execution_count": 42,
     "metadata": {},
     "output_type": "execute_result"
    }
   ],
   "source": [
    "type(element_by_xpath)\n",
    "# Vemos que es tipo 'WebElement' y en la documentación podremos encontrar sus métodos"
   ]
  },
  {
   "cell_type": "code",
   "execution_count": 43,
   "metadata": {
    "ExecuteTime": {
     "end_time": "2021-02-26T10:24:41.830050Z",
     "start_time": "2021-02-26T10:24:41.510086Z"
    }
   },
   "outputs": [
    {
     "data": {
      "text/plain": [
       "True"
      ]
     },
     "execution_count": 43,
     "metadata": {},
     "output_type": "execute_result"
    }
   ],
   "source": [
    "# guardamos como 'mi_imagen.png' la imagen asociada al xpath\n",
    "element_by_xpath.screenshot('mi_imagen.png')"
   ]
  },
  {
   "cell_type": "markdown",
   "metadata": {
    "ExecuteTime": {
     "end_time": "2021-02-25T09:56:21.322475Z",
     "start_time": "2021-02-25T09:56:21.318715Z"
    }
   },
   "source": [
    "Evaluamos que elementos hemos encontrado por el tag:"
   ]
  },
  {
   "cell_type": "code",
   "execution_count": 44,
   "metadata": {
    "ExecuteTime": {
     "end_time": "2021-02-25T10:40:47.561469Z",
     "start_time": "2021-02-25T10:40:46.812684Z"
    }
   },
   "outputs": [
    {
     "name": "stdout",
     "output_type": "stream",
     "text": [
      "Elemento: 0\n",
      "Texto del elemento 0 es socios\n",
      "El tag del elemento 0 es button\n",
      "Elemento: 1\n",
      "Texto del elemento 1 es MÁS OPCIONES\n",
      "El tag del elemento 1 es button\n",
      "Elemento: 2\n",
      "Texto del elemento 2 es ACEPTO\n",
      "El tag del elemento 2 es button\n"
     ]
    }
   ],
   "source": [
    "for index, element in enumerate(elements_by_tag):\n",
    "    print('Elemento:', index)\n",
    "    print('Texto del elemento',index, 'es', element.text)\n",
    "    print('El tag del elemento',index, 'es', element.tag_name)\n",
    "    element.screenshot('mi_imagen'+str(index)+'.png')"
   ]
  },
  {
   "cell_type": "markdown",
   "metadata": {},
   "source": [
    "Basta de tonterias seguimos"
   ]
  },
  {
   "cell_type": "markdown",
   "metadata": {},
   "source": [
    "Instanciamos el elemento del tag [2] en la variable boton aceptar"
   ]
  },
  {
   "cell_type": "code",
   "execution_count": 45,
   "metadata": {
    "ExecuteTime": {
     "end_time": "2021-02-26T10:24:47.302978Z",
     "start_time": "2021-02-26T10:24:47.291261Z"
    }
   },
   "outputs": [],
   "source": [
    "# boton_aceptar = elements_by_tag[2]\n",
    "boton_aceptar = element_by_xpath"
   ]
  },
  {
   "cell_type": "markdown",
   "metadata": {},
   "source": [
    "Si el elemento es interactivo podremos hacer más cosas además de las anteriores. Por ejemplo: hacer click"
   ]
  },
  {
   "cell_type": "code",
   "execution_count": 46,
   "metadata": {
    "ExecuteTime": {
     "end_time": "2021-02-26T10:24:48.611716Z",
     "start_time": "2021-02-26T10:24:48.390430Z"
    }
   },
   "outputs": [],
   "source": [
    "boton_aceptar.click()"
   ]
  },
  {
   "cell_type": "markdown",
   "metadata": {},
   "source": [
    "Buscamos una película por título"
   ]
  },
  {
   "cell_type": "code",
   "execution_count": 47,
   "metadata": {},
   "outputs": [],
   "source": [
    "from selenium.webdriver.common.keys import Keys"
   ]
  },
  {
   "cell_type": "code",
   "execution_count": 60,
   "metadata": {},
   "outputs": [],
   "source": [
    "\n",
    "buscador = driver.find_element(\"id\",'top-search-input')"
   ]
  },
  {
   "cell_type": "code",
   "execution_count": null,
   "metadata": {
    "ExecuteTime": {
     "end_time": "2021-02-26T10:28:14.592155Z",
     "start_time": "2021-02-26T10:28:13.509998Z"
    }
   },
   "outputs": [],
   "source": [
    "buscador = driver.find_element(\"xpath\",'/html/body/div[2]/div[1]/div/div[2]/form/div/input')"
   ]
  },
  {
   "cell_type": "code",
   "execution_count": 61,
   "metadata": {},
   "outputs": [],
   "source": [
    "buscador.send_keys('Minions')"
   ]
  },
  {
   "cell_type": "code",
   "execution_count": 50,
   "metadata": {},
   "outputs": [],
   "source": [
    "buscador.clear()"
   ]
  },
  {
   "cell_type": "code",
   "execution_count": 62,
   "metadata": {},
   "outputs": [],
   "source": [
    "# una vez escrita la búsqueda deberíamos poder activarla:\n",
    "buscador.send_keys(Keys.ENTER)"
   ]
  },
  {
   "cell_type": "code",
   "execution_count": 58,
   "metadata": {},
   "outputs": [],
   "source": [
    "# volvemos a la página anterior\n",
    "driver.back()"
   ]
  },
  {
   "cell_type": "markdown",
   "metadata": {
    "ExecuteTime": {
     "end_time": "2021-02-25T10:09:19.308961Z",
     "start_time": "2021-02-25T10:09:19.299983Z"
    }
   },
   "source": [
    "### Vamos a buscar todas las películas que se estrenan el próximo viernes"
   ]
  },
  {
   "cell_type": "markdown",
   "metadata": {},
   "source": [
    "1. Cogemos los containers que hay en la zona lateral"
   ]
  },
  {
   "cell_type": "code",
   "execution_count": 78,
   "metadata": {
    "ExecuteTime": {
     "end_time": "2021-02-25T10:40:53.961145Z",
     "start_time": "2021-02-25T10:40:53.793388Z"
    }
   },
   "outputs": [
    {
     "data": {
      "text/plain": [
       "<selenium.webdriver.remote.webelement.WebElement (session=\"0cd8219df28f89b6af6fd26dc6d64876\", element=\"2fa6da2e-6045-4d70-b17f-0e5167ba799e\")>"
      ]
     },
     "execution_count": 78,
     "metadata": {},
     "output_type": "execute_result"
    }
   ],
   "source": [
    "menu_lateral = driver.find_element('id','lsmenu')\n",
    "menu_lateral"
   ]
  },
  {
   "cell_type": "code",
   "execution_count": 80,
   "metadata": {},
   "outputs": [],
   "source": [
    "mis_secciones = menu_lateral.find_elements(By.TAG_NAME,'a')"
   ]
  },
  {
   "cell_type": "code",
   "execution_count": 66,
   "metadata": {},
   "outputs": [
    {
     "name": "stdout",
     "output_type": "stream",
     "text": [
      "Votar los tours\n",
      "Iniciar sesión\n",
      "Registrarse\n",
      "Películas en cartelera\n",
      "Cines España\n",
      "Próximos estrenos\n",
      "Estrenos Blu-ray venta\n",
      "Próximos Blu-ray venta\n",
      "Ya para alquilar\n",
      "Próximamente alquiler\n",
      "Netflix\n",
      "Netflix (próx)\n",
      "Amazon Prime\n",
      "Movistar Plus+\n",
      "Movistar Plus+ (próx)\n",
      "HBO Max\n",
      "Disney+\n",
      "Filmin\n",
      "Atlàntida\n",
      "Apple TV+\n",
      "Rakuten TV\n",
      "Estrenos USA\n",
      "Estrenos Reino Unido\n",
      "Estrenos Francia\n",
      "Todos los rankings\n",
      "El Top 1000 de FA\n",
      "Taquilla\n",
      "Trailers\n",
      "Últimos trailers\n",
      "Últimas críticas users\n",
      "Qué dice la crítica\n",
      "Películas por temas\n",
      "Sagas & Franquicias\n",
      "Series de actualidad\n",
      "Top series\n",
      "Vota Series de TV\n",
      "Top Filmaffinity\n",
      "Lo mejor del TOP\n",
      "Top Estrenos\n",
      "Top Estrenos Blu-ray\n",
      "Ranking de listas\n",
      "Premios y Festivales\n",
      "Todos los Oscar\n",
      "Resumen 2021\n",
      "Acerca de FA\n",
      "Contacto\n"
     ]
    }
   ],
   "source": [
    "for seccion in mis_secciones:\n",
    "    print(seccion.text)"
   ]
  },
  {
   "cell_type": "markdown",
   "metadata": {},
   "source": [
    "2. Vemos con cuál nos tenemos que quedar"
   ]
  },
  {
   "cell_type": "code",
   "execution_count": 81,
   "metadata": {
    "ExecuteTime": {
     "end_time": "2021-02-25T10:40:55.130681Z",
     "start_time": "2021-02-25T10:40:54.930234Z"
    }
   },
   "outputs": [],
   "source": [
    "for a in mis_secciones:\n",
    "    if a.text == 'Próximos estrenos':\n",
    "        a.click()\n",
    "        break"
   ]
  },
  {
   "cell_type": "markdown",
   "metadata": {},
   "source": [
    "Accedemos al container central, en el que aparecen los estrenos por semana que queremos ver, exactamente igual que hemos hecho antes"
   ]
  },
  {
   "cell_type": "code",
   "execution_count": 82,
   "metadata": {
    "ExecuteTime": {
     "end_time": "2021-02-25T10:43:53.772471Z",
     "start_time": "2021-02-25T10:43:53.757510Z"
    }
   },
   "outputs": [],
   "source": [
    "cajon_central = driver.find_elements('id','main-wrapper-rdcat')"
   ]
  },
  {
   "cell_type": "code",
   "execution_count": 69,
   "metadata": {},
   "outputs": [
    {
     "data": {
      "text/plain": [
       "list"
      ]
     },
     "execution_count": 69,
     "metadata": {},
     "output_type": "execute_result"
    }
   ],
   "source": [
    "type(cajon_central)"
   ]
  },
  {
   "cell_type": "code",
   "execution_count": 70,
   "metadata": {
    "ExecuteTime": {
     "end_time": "2021-02-25T11:04:59.734561Z",
     "start_time": "2021-02-25T11:04:59.617626Z"
    }
   },
   "outputs": [
    {
     "name": "stdout",
     "output_type": "stream",
     "text": [
      "16 de diciembre de 2022\n",
      "2022-12-16\n",
      "21 de diciembre de 2022\n",
      "2022-12-21\n",
      "23 de diciembre de 2022\n",
      "2022-12-23\n",
      "28 de diciembre de 2022\n",
      "2022-12-28\n",
      "4 de enero de 2023\n",
      "2023-01-04\n",
      "13 de enero de 2023\n",
      "2023-01-13\n",
      "20 de enero de 2023\n",
      "2023-01-20\n",
      "27 de enero de 2023\n",
      "2023-01-27\n"
     ]
    }
   ],
   "source": [
    "for semana in cajon_central:\n",
    "    print(semana.find_element(By.TAG_NAME,'div').text)\n",
    "    print(semana.find_element(By.TAG_NAME,'div').get_attribute('id'))"
   ]
  },
  {
   "cell_type": "code",
   "execution_count": 83,
   "metadata": {},
   "outputs": [],
   "source": [
    "for semana in cajon_central:\n",
    "    fecha = semana.find_element(By.TAG_NAME,'div').get_attribute('id')\n",
    "    if fecha == '2022-12-21':\n",
    "        break"
   ]
  },
  {
   "cell_type": "markdown",
   "metadata": {
    "ExecuteTime": {
     "end_time": "2021-02-25T11:04:08.219853Z",
     "start_time": "2021-02-25T11:04:08.215863Z"
    }
   },
   "source": [
    "Buscamos cómo acceder a las películas"
   ]
  },
  {
   "cell_type": "code",
   "execution_count": 84,
   "metadata": {},
   "outputs": [
    {
     "data": {
      "text/plain": [
       "<selenium.webdriver.remote.webelement.WebElement (session=\"0cd8219df28f89b6af6fd26dc6d64876\", element=\"70ab3161-9616-4717-9ed9-0bd16f52b1d7\")>"
      ]
     },
     "execution_count": 84,
     "metadata": {},
     "output_type": "execute_result"
    }
   ],
   "source": [
    "semana"
   ]
  },
  {
   "cell_type": "code",
   "execution_count": 73,
   "metadata": {
    "ExecuteTime": {
     "end_time": "2021-02-25T11:10:28.294864Z",
     "start_time": "2021-02-25T11:10:28.174126Z"
    }
   },
   "outputs": [],
   "source": [
    "caratulas = semana.find_elements(By.CLASS_NAME,'movie-card')\n",
    "lista_pelis = []\n",
    "for peli in caratulas:\n",
    "    lista_pelis.append(peli.find_element(By.TAG_NAME,'a').get_attribute('href'))"
   ]
  },
  {
   "cell_type": "code",
   "execution_count": 74,
   "metadata": {},
   "outputs": [
    {
     "data": {
      "text/plain": [
       "['https://www.filmaffinity.com/es/film542141.html',\n",
       " 'https://www.filmaffinity.com/es/film732443.html',\n",
       " 'https://www.filmaffinity.com/es/film893654.html',\n",
       " 'https://www.filmaffinity.com/es/film747706.html',\n",
       " 'https://www.filmaffinity.com/es/film582272.html',\n",
       " 'https://www.filmaffinity.com/es/film403812.html']"
      ]
     },
     "execution_count": 74,
     "metadata": {},
     "output_type": "execute_result"
    }
   ],
   "source": [
    "lista_pelis"
   ]
  },
  {
   "cell_type": "markdown",
   "metadata": {},
   "source": [
    "Una vez tenemos todas las urls vamos a ver qué hacemos con cada una de ellas"
   ]
  },
  {
   "cell_type": "code",
   "execution_count": 85,
   "metadata": {
    "ExecuteTime": {
     "end_time": "2021-02-25T11:15:40.003059Z",
     "start_time": "2021-02-25T11:15:39.091047Z"
    }
   },
   "outputs": [],
   "source": [
    "# Accedemos a la página de la primera pelicula\n",
    "driver.get(lista_pelis[0])"
   ]
  },
  {
   "cell_type": "markdown",
   "metadata": {
    "ExecuteTime": {
     "end_time": "2021-02-25T11:21:51.020248Z",
     "start_time": "2021-02-25T11:21:50.381138Z"
    }
   },
   "source": [
    "Vamos a ver el proceso que deberíamos hacer con cada una de las películas:"
   ]
  },
  {
   "cell_type": "code",
   "execution_count": 87,
   "metadata": {},
   "outputs": [],
   "source": [
    "driver.get(\"https://www.filmaffinity.com/es/film873946.html\")"
   ]
  },
  {
   "cell_type": "markdown",
   "metadata": {},
   "source": [
    "1. Sacamos toda la información que nos interesa"
   ]
  },
  {
   "cell_type": "code",
   "execution_count": 88,
   "metadata": {
    "ExecuteTime": {
     "end_time": "2021-02-25T11:36:58.487622Z",
     "start_time": "2021-02-25T11:36:58.420292Z"
    }
   },
   "outputs": [],
   "source": [
    "# titulo, nota, numero de votos y ficha técnica\n",
    "titulo = driver.find_element(\"xpath\",'/html/body/div[4]/table/tbody/tr/td[2]/div[1]/div[4]/h1/span').text\n",
    "nota = driver.find_element(\"xpath\",'/html/body/div[4]/table/tbody/tr/td[2]/div[1]/div[4]/div/div[2]/div[2]/div[1]/div[2]/div[1]').text\n",
    "votos = driver.find_element(\"xpath\",'/html/body/div[4]/table/tbody/tr/td[2]/div[1]/div[4]/div/div[2]/div[2]/div[1]/div[2]/div[2]/span').text\n",
    "ficha = driver.find_element(\"xpath\",'/html/body/div[4]/table/tbody/tr/td[2]/div[1]/div[4]/div/div[3]/dl[1]')"
   ]
  },
  {
   "cell_type": "code",
   "execution_count": 89,
   "metadata": {},
   "outputs": [
    {
     "data": {
      "text/plain": [
       "('After. En mil pedazos',\n",
       " '3,5',\n",
       " '1.377',\n",
       " <selenium.webdriver.remote.webelement.WebElement (session=\"0cd8219df28f89b6af6fd26dc6d64876\", element=\"6a022df7-6c5a-4d9e-83b4-710fcbabe99a\")>)"
      ]
     },
     "execution_count": 89,
     "metadata": {},
     "output_type": "execute_result"
    }
   ],
   "source": [
    "titulo,nota,votos,ficha"
   ]
  },
  {
   "cell_type": "markdown",
   "metadata": {},
   "source": [
    "2. Creamos una lista a partir de la ficha técnica"
   ]
  },
  {
   "cell_type": "code",
   "execution_count": 92,
   "metadata": {
    "ExecuteTime": {
     "end_time": "2021-02-25T11:34:54.218938Z",
     "start_time": "2021-02-25T11:34:53.923558Z"
    }
   },
   "outputs": [],
   "source": [
    "# Los nombres estan con tag  = 'dt' y los valores con 'dd'\n",
    "ficha_names = []\n",
    "ficha_values = []\n",
    "\n",
    "for name in ficha.find_elements(By.TAG_NAME,'dt'):\n",
    "    ficha_names.append(name.text)\n",
    "for value in ficha.find_elements(By.TAG_NAME,'dd'):\n",
    "    ficha_values.append(value.text)"
   ]
  },
  {
   "cell_type": "code",
   "execution_count": 91,
   "metadata": {},
   "outputs": [
    {
     "data": {
      "text/plain": [
       "(['Título original',\n",
       "  '',\n",
       "  'Año',\n",
       "  'Duración',\n",
       "  'País',\n",
       "  'Dirección',\n",
       "  'Guion',\n",
       "  'Fotografía',\n",
       "  'Reparto',\n",
       "  'Compañías',\n",
       "  'Género',\n",
       "  'Grupos',\n",
       "  'Sinopsis'],\n",
       " ['After We Collidedaka',\n",
       "  '',\n",
       "  '2020',\n",
       "  '105 min.',\n",
       "  ' Estados Unidos',\n",
       "  'Roger Kumble',\n",
       "  'Mario Celaya. Novela: Anna Todd',\n",
       "  'Larry Reibman',\n",
       "  'Josephine Langford, Hero Fiennes-Tiffin, Dylan Sprouse, Selma Blair, Candice Accola, Charlie Weber, Samuel Larsen, Louise Lombard, Dylan Arnold, Inanna Sarkis, ver 11 más',\n",
       "  'CalMaple, Frayed Pages Entertainment. Distribuidora: GEM Entertainment',\n",
       "  'Romance. Drama | Secuela. Young Adult. Adolescencia',\n",
       "  'After',\n",
       "  \"Ha pasado el tiempo, y Hardin (Hero Finnes Tiffin) todavía no se sabe si es realmente el chico profundo y reflexivo del que Tessa (Josephine Langford) se enamoró, o ha sido un extraño todo este tiempo. Ella quiere alejarse, pero no es tan fácil. Tessa se ha centrado en sus estudios y comienza a trabajar como becaria en Vance Publishing. Allí conoce a Trevor (Dylan Sprouse), un nuevo y atractivo compañero de trabajo que es exactamente el tipo de persona con la que debería estar. Pero Hardin sabe que cometió un error, posiblemente el más grande de su vida y quiere corregir sus errores y vencer a sus demonios... Secuela de la película 'After'.\"])"
      ]
     },
     "execution_count": 91,
     "metadata": {},
     "output_type": "execute_result"
    }
   ],
   "source": [
    "ficha_names,ficha_values"
   ]
  },
  {
   "cell_type": "markdown",
   "metadata": {},
   "source": [
    "3. Creamos un dataframe con la info"
   ]
  },
  {
   "cell_type": "code",
   "execution_count": 93,
   "metadata": {
    "ExecuteTime": {
     "end_time": "2021-02-25T11:38:19.916044Z",
     "start_time": "2021-02-25T11:38:19.899094Z"
    }
   },
   "outputs": [
    {
     "data": {
      "text/plain": [
       "16"
      ]
     },
     "execution_count": 93,
     "metadata": {},
     "output_type": "execute_result"
    }
   ],
   "source": [
    "columns = ['Titulo', 'Nota', 'Votos']\n",
    "columns.extend(ficha_names)\n",
    "len(columns)"
   ]
  },
  {
   "cell_type": "code",
   "execution_count": 94,
   "metadata": {},
   "outputs": [
    {
     "data": {
      "text/plain": [
       "16"
      ]
     },
     "execution_count": 94,
     "metadata": {},
     "output_type": "execute_result"
    }
   ],
   "source": [
    "values = [titulo, nota, votos]\n",
    "values.extend(ficha_values)\n",
    "len(values)"
   ]
  },
  {
   "cell_type": "code",
   "execution_count": 95,
   "metadata": {},
   "outputs": [
    {
     "data": {
      "text/html": [
       "<div>\n",
       "<style scoped>\n",
       "    .dataframe tbody tr th:only-of-type {\n",
       "        vertical-align: middle;\n",
       "    }\n",
       "\n",
       "    .dataframe tbody tr th {\n",
       "        vertical-align: top;\n",
       "    }\n",
       "\n",
       "    .dataframe thead th {\n",
       "        text-align: right;\n",
       "    }\n",
       "</style>\n",
       "<table border=\"1\" class=\"dataframe\">\n",
       "  <thead>\n",
       "    <tr style=\"text-align: right;\">\n",
       "      <th></th>\n",
       "      <th>Titulo</th>\n",
       "      <th>Nota</th>\n",
       "      <th>Votos</th>\n",
       "      <th>Título original</th>\n",
       "      <th></th>\n",
       "      <th>Año</th>\n",
       "      <th>Duración</th>\n",
       "      <th>País</th>\n",
       "      <th>Dirección</th>\n",
       "      <th>Guion</th>\n",
       "      <th>Fotografía</th>\n",
       "      <th>Reparto</th>\n",
       "      <th>Compañías</th>\n",
       "      <th>Género</th>\n",
       "      <th>Grupos</th>\n",
       "      <th>Sinopsis</th>\n",
       "    </tr>\n",
       "  </thead>\n",
       "  <tbody>\n",
       "    <tr>\n",
       "      <th>0</th>\n",
       "      <td>After. En mil pedazos</td>\n",
       "      <td>3,5</td>\n",
       "      <td>1.377</td>\n",
       "      <td>After We Collidedaka</td>\n",
       "      <td></td>\n",
       "      <td>2020</td>\n",
       "      <td>105 min.</td>\n",
       "      <td>Estados Unidos</td>\n",
       "      <td>Roger Kumble</td>\n",
       "      <td>Mario Celaya. Novela: Anna Todd</td>\n",
       "      <td>Larry Reibman</td>\n",
       "      <td>Josephine Langford, Hero Fiennes-Tiffin, Dylan...</td>\n",
       "      <td>CalMaple, Frayed Pages Entertainment. Distribu...</td>\n",
       "      <td>Romance. Drama | Secuela. Young Adult. Adolesc...</td>\n",
       "      <td>After</td>\n",
       "      <td>Ha pasado el tiempo, y Hardin (Hero Finnes Tif...</td>\n",
       "    </tr>\n",
       "  </tbody>\n",
       "</table>\n",
       "</div>"
      ],
      "text/plain": [
       "                  Titulo Nota  Votos       Título original     Año  Duración  \\\n",
       "0  After. En mil pedazos  3,5  1.377  After We Collidedaka    2020  105 min.   \n",
       "\n",
       "              País     Dirección                            Guion  \\\n",
       "0   Estados Unidos  Roger Kumble  Mario Celaya. Novela: Anna Todd   \n",
       "\n",
       "      Fotografía                                            Reparto  \\\n",
       "0  Larry Reibman  Josephine Langford, Hero Fiennes-Tiffin, Dylan...   \n",
       "\n",
       "                                           Compañías  \\\n",
       "0  CalMaple, Frayed Pages Entertainment. Distribu...   \n",
       "\n",
       "                                              Género Grupos  \\\n",
       "0  Romance. Drama | Secuela. Young Adult. Adolesc...  After   \n",
       "\n",
       "                                            Sinopsis  \n",
       "0  Ha pasado el tiempo, y Hardin (Hero Finnes Tif...  "
      ]
     },
     "execution_count": 95,
     "metadata": {},
     "output_type": "execute_result"
    }
   ],
   "source": [
    "pd.DataFrame([values],columns=columns)"
   ]
  },
  {
   "cell_type": "markdown",
   "metadata": {},
   "source": [
    "Ahora vamos a crear una función que nos haga todo esto para cada una de las películas:"
   ]
  },
  {
   "cell_type": "code",
   "execution_count": 96,
   "metadata": {
    "ExecuteTime": {
     "end_time": "2021-02-25T11:58:39.349919Z",
     "start_time": "2021-02-25T11:58:39.052802Z"
    }
   },
   "outputs": [],
   "source": [
    "def sacar_info(driver):\n",
    "    \n",
    "    titulo = driver.find_element(\"xpath\",'/html/body/div[4]/table/tbody/tr/td[2]/div[1]/div[4]/h1/span').text\n",
    "    try:\n",
    "        nota = driver.find_element(\"xpath\",'/html/body/div[4]/table/tbody/tr/td[2]/div[1]/div[4]/div/div[2]/div[2]/div[1]/div[2]').text\n",
    "        votos = driver.find_element(\"xpath\",'/html/body/div[4]/table/tbody/tr/td[2]/div[1]/div[4]/div/div[2]/div[2]/div[1]/div[2]/div[2]').text\n",
    "    except:\n",
    "        nota = None\n",
    "        votos = None\n",
    "    ficha = driver.find_element(\"xpath\",'/html/body/div[4]/table/tbody/tr/td[2]/div[1]/div[4]/div/div[3]/dl[1]')\n",
    "    \n",
    "    return titulo, nota, votos, ficha\n",
    "\n",
    "def sacar_ficha(ficha):\n",
    "    \n",
    "    ficha_names = []\n",
    "    ficha_values = []\n",
    "\n",
    "    for name in ficha.find_elements(By.TAG_NAME,'dt'):\n",
    "        ficha_names.append(name.text)\n",
    "    for value in ficha.find_elements(By.TAG_NAME,'dd'):\n",
    "        ficha_values.append(value.text)\n",
    "        \n",
    "    return ficha_names, ficha_values\n",
    "\n",
    "def montar_df(ficha_names, ficha_values, titulo, nota, votos):\n",
    "    \n",
    "    columns = ['Titulo', 'Nota', 'Votos']\n",
    "    columns.extend(ficha_names)\n",
    "    values = [titulo, nota, votos]\n",
    "    values.extend(ficha_values)\n",
    "    \n",
    "    return pd.DataFrame([values], columns = columns)\n",
    "    \n",
    "def nueva_pelicula(driver):\n",
    "    \n",
    "    titulo, nota, votos, ficha = sacar_info(driver)\n",
    "    ficha_names, ficha_values = sacar_ficha(ficha)\n",
    "    df_peli = montar_df(ficha_names, ficha_values, titulo, nota, votos)\n",
    "    \n",
    "    return df_peli\n"
   ]
  },
  {
   "cell_type": "markdown",
   "metadata": {},
   "source": [
    "Vamos a ver cómo nos podemos mover entre ventanas del navegador\n",
    "\n",
    "Abrir nueva ventana:"
   ]
  },
  {
   "cell_type": "code",
   "execution_count": 97,
   "metadata": {},
   "outputs": [],
   "source": [
    "driver.execute_script('window.open(\"\");')"
   ]
  },
  {
   "cell_type": "markdown",
   "metadata": {},
   "source": [
    "Movernos a otra ventana"
   ]
  },
  {
   "cell_type": "code",
   "execution_count": 98,
   "metadata": {},
   "outputs": [],
   "source": [
    "driver.switch_to.window(driver.window_handles[0])"
   ]
  },
  {
   "cell_type": "markdown",
   "metadata": {},
   "source": [
    "Cerrar ventana"
   ]
  },
  {
   "cell_type": "code",
   "execution_count": 99,
   "metadata": {
    "ExecuteTime": {
     "end_time": "2021-02-25T12:04:17.177986Z",
     "start_time": "2021-02-25T12:04:17.160442Z"
    }
   },
   "outputs": [],
   "source": [
    "driver.close()"
   ]
  },
  {
   "cell_type": "markdown",
   "metadata": {},
   "source": [
    "Una vez cerramos la ventana tenemos que indicarle a qué ventana tiene que ir"
   ]
  },
  {
   "cell_type": "code",
   "execution_count": 100,
   "metadata": {
    "ExecuteTime": {
     "end_time": "2021-02-25T12:05:01.711952Z",
     "start_time": "2021-02-25T12:05:01.583709Z"
    }
   },
   "outputs": [],
   "source": [
    "driver.switch_to.window(driver.window_handles[-1])"
   ]
  },
  {
   "cell_type": "markdown",
   "metadata": {},
   "source": [
    "Sabiendo cómo podemos movernos por entre las ventanas y sabiendo cómo extraer de cada página toda la información que necesitamos vamos a crear nuestro dataframe:"
   ]
  },
  {
   "cell_type": "code",
   "execution_count": 101,
   "metadata": {},
   "outputs": [],
   "source": [
    "# para abrir todos los links en lista_pelis\n",
    "for link in lista_pelis:\n",
    "    driver.execute_script('window.open(\"'+link+'\");')\n",
    "    driver.switch_to.window(driver.window_handles[-1])\n",
    "    driver.get(link)"
   ]
  },
  {
   "cell_type": "code",
   "execution_count": 102,
   "metadata": {
    "ExecuteTime": {
     "end_time": "2021-02-25T12:00:27.038323Z",
     "start_time": "2021-02-25T11:59:37.219902Z"
    }
   },
   "outputs": [
    {
     "name": "stderr",
     "output_type": "stream",
     "text": [
      "C:\\Users\\debor\\AppData\\Local\\Temp\\ipykernel_13628\\2147100405.py:9: FutureWarning: The frame.append method is deprecated and will be removed from pandas in a future version. Use pandas.concat instead.\n",
      "  df_peliculas = df_peliculas.append(nueva_peli)\n",
      "C:\\Users\\debor\\AppData\\Local\\Temp\\ipykernel_13628\\2147100405.py:9: FutureWarning: The frame.append method is deprecated and will be removed from pandas in a future version. Use pandas.concat instead.\n",
      "  df_peliculas = df_peliculas.append(nueva_peli)\n",
      "C:\\Users\\debor\\AppData\\Local\\Temp\\ipykernel_13628\\2147100405.py:9: FutureWarning: The frame.append method is deprecated and will be removed from pandas in a future version. Use pandas.concat instead.\n",
      "  df_peliculas = df_peliculas.append(nueva_peli)\n",
      "C:\\Users\\debor\\AppData\\Local\\Temp\\ipykernel_13628\\2147100405.py:9: FutureWarning: The frame.append method is deprecated and will be removed from pandas in a future version. Use pandas.concat instead.\n",
      "  df_peliculas = df_peliculas.append(nueva_peli)\n",
      "C:\\Users\\debor\\AppData\\Local\\Temp\\ipykernel_13628\\2147100405.py:9: FutureWarning: The frame.append method is deprecated and will be removed from pandas in a future version. Use pandas.concat instead.\n",
      "  df_peliculas = df_peliculas.append(nueva_peli)\n",
      "C:\\Users\\debor\\AppData\\Local\\Temp\\ipykernel_13628\\2147100405.py:9: FutureWarning: The frame.append method is deprecated and will be removed from pandas in a future version. Use pandas.concat instead.\n",
      "  df_peliculas = df_peliculas.append(nueva_peli)\n"
     ]
    }
   ],
   "source": [
    "# Creamos un dataframe con todas las pelis que se estrenan la próxima semana:\n",
    "df_peliculas = pd.DataFrame()\n",
    "\n",
    "for link in lista_pelis:\n",
    "    driver.execute_script('window.open(\"\");')\n",
    "    driver.switch_to.window(driver.window_handles[-1])\n",
    "    driver.get(link)\n",
    "    nueva_peli = nueva_pelicula(driver)\n",
    "    df_peliculas = df_peliculas.append(nueva_peli)"
   ]
  },
  {
   "cell_type": "code",
   "execution_count": 103,
   "metadata": {
    "ExecuteTime": {
     "end_time": "2021-02-25T12:00:36.221987Z",
     "start_time": "2021-02-25T12:00:36.207006Z"
    }
   },
   "outputs": [
    {
     "name": "stdout",
     "output_type": "stream",
     "text": [
      "<class 'pandas.core.frame.DataFrame'>\n",
      "Int64Index: 6 entries, 0 to 0\n",
      "Data columns (total 17 columns):\n",
      " #   Column           Non-Null Count  Dtype \n",
      "---  ------           --------------  ----- \n",
      " 0   Titulo           6 non-null      object\n",
      " 1   Nota             3 non-null      object\n",
      " 2   Votos            3 non-null      object\n",
      " 3   Título original  6 non-null      object\n",
      " 4   Año              6 non-null      object\n",
      " 5   Duración         5 non-null      object\n",
      " 6   País             6 non-null      object\n",
      " 7   Dirección        6 non-null      object\n",
      " 8   Guion            6 non-null      object\n",
      " 9   Música           5 non-null      object\n",
      " 10  Fotografía       6 non-null      object\n",
      " 11  Reparto          6 non-null      object\n",
      " 12  Compañías        6 non-null      object\n",
      " 13  Género           6 non-null      object\n",
      " 14  Grupos           2 non-null      object\n",
      " 15  Sinopsis         6 non-null      object\n",
      " 16                   3 non-null      object\n",
      "dtypes: object(17)\n",
      "memory usage: 864.0+ bytes\n"
     ]
    }
   ],
   "source": [
    "df_peliculas.info()"
   ]
  },
  {
   "cell_type": "code",
   "execution_count": 104,
   "metadata": {},
   "outputs": [
    {
     "data": {
      "text/html": [
       "<div>\n",
       "<style scoped>\n",
       "    .dataframe tbody tr th:only-of-type {\n",
       "        vertical-align: middle;\n",
       "    }\n",
       "\n",
       "    .dataframe tbody tr th {\n",
       "        vertical-align: top;\n",
       "    }\n",
       "\n",
       "    .dataframe thead th {\n",
       "        text-align: right;\n",
       "    }\n",
       "</style>\n",
       "<table border=\"1\" class=\"dataframe\">\n",
       "  <thead>\n",
       "    <tr style=\"text-align: right;\">\n",
       "      <th></th>\n",
       "      <th>Titulo</th>\n",
       "      <th>Nota</th>\n",
       "      <th>Votos</th>\n",
       "      <th>Título original</th>\n",
       "      <th>Año</th>\n",
       "      <th>Duración</th>\n",
       "      <th>País</th>\n",
       "      <th>Dirección</th>\n",
       "      <th>Guion</th>\n",
       "      <th>Música</th>\n",
       "      <th>Fotografía</th>\n",
       "      <th>Reparto</th>\n",
       "      <th>Compañías</th>\n",
       "      <th>Género</th>\n",
       "      <th>Grupos</th>\n",
       "      <th>Sinopsis</th>\n",
       "      <th></th>\n",
       "    </tr>\n",
       "  </thead>\n",
       "  <tbody>\n",
       "    <tr>\n",
       "      <th>0</th>\n",
       "      <td>El gato con botas: El último deseo</td>\n",
       "      <td>None</td>\n",
       "      <td>None</td>\n",
       "      <td>Puss in Boots: The Last Wish</td>\n",
       "      <td>2022</td>\n",
       "      <td>100 min.</td>\n",
       "      <td>Estados Unidos</td>\n",
       "      <td>Joel Crawford, Januel Mercado</td>\n",
       "      <td>Paul Fisher, Tommy Swerdlow. Historia: Tommy S...</td>\n",
       "      <td>Heitor Pereira</td>\n",
       "      <td>Animación</td>\n",
       "      <td>Animación</td>\n",
       "      <td>DreamWorks Animation, Pacific Data Images (PDI...</td>\n",
       "      <td>Animación. Aventuras. Comedia | Gatos. Secuela</td>\n",
       "      <td>Shrek | DreamWorks Animation (Películas) | El ...</td>\n",
       "      <td>Secuela de 'El gato con botas' (2011). El Gato...</td>\n",
       "      <td>NaN</td>\n",
       "    </tr>\n",
       "    <tr>\n",
       "      <th>0</th>\n",
       "      <td>I Wanna Dance with Somebody</td>\n",
       "      <td>None</td>\n",
       "      <td>None</td>\n",
       "      <td>I Wanna Dance with Somebody</td>\n",
       "      <td>2022</td>\n",
       "      <td>NaN</td>\n",
       "      <td>Estados Unidos</td>\n",
       "      <td>Kasi Lemmons</td>\n",
       "      <td>Anthony McCarten</td>\n",
       "      <td>NaN</td>\n",
       "      <td>Barry Ackroyd</td>\n",
       "      <td>Naomi Ackie, Ashton Sanders, Stanley Tucci, Cl...</td>\n",
       "      <td>Coproducción Estados Unidos-Reino Unido; TriSt...</td>\n",
       "      <td>Drama | Biográfico. Música</td>\n",
       "      <td>NaN</td>\n",
       "      <td>Biopic sobre la cantante Whitney Houston. Un r...</td>\n",
       "      <td>NaN</td>\n",
       "    </tr>\n",
       "    <tr>\n",
       "      <th>0</th>\n",
       "      <td>Broker</td>\n",
       "      <td>6,6\\n268\\nvotos</td>\n",
       "      <td>268\\nvotos</td>\n",
       "      <td>Brokeraka</td>\n",
       "      <td>2022</td>\n",
       "      <td>129 min.</td>\n",
       "      <td>Corea del Sur</td>\n",
       "      <td>Hirokazu Koreeda</td>\n",
       "      <td>Hirokazu Koreeda</td>\n",
       "      <td>Jung Jae-il</td>\n",
       "      <td>Hong Kyung-pyo</td>\n",
       "      <td>Song Kang-ho, Gang Dong-won, Bae Doona, Lee Ji...</td>\n",
       "      <td>Zip Cinema</td>\n",
       "      <td>Drama</td>\n",
       "      <td>NaN</td>\n",
       "      <td>Una noche lluviosa una joven abandona a su beb...</td>\n",
       "      <td></td>\n",
       "    </tr>\n",
       "    <tr>\n",
       "      <th>0</th>\n",
       "      <td>Ego</td>\n",
       "      <td>6,2\\n720\\nvotos</td>\n",
       "      <td>720\\nvotos</td>\n",
       "      <td>Pahanhautojaaka</td>\n",
       "      <td>2022</td>\n",
       "      <td>88 min.</td>\n",
       "      <td>Finlandia</td>\n",
       "      <td>Hanna Bergholm</td>\n",
       "      <td>Ilja Rautsi. Historia: Hanna Bergholm</td>\n",
       "      <td>Stein Berge Svendsen</td>\n",
       "      <td>Jarkko T. Laine</td>\n",
       "      <td>Siiri Solalinna, Sophia Heikkilä, Jani Volanen...</td>\n",
       "      <td>Coproducción Finlandia-Suecia; Silva Mysterium...</td>\n",
       "      <td>Terror. Thriller | Familia. Gimnasia. Thriller...</td>\n",
       "      <td>NaN</td>\n",
       "      <td>Tinja es una joven gimnasta que intenta desesp...</td>\n",
       "      <td></td>\n",
       "    </tr>\n",
       "    <tr>\n",
       "      <th>0</th>\n",
       "      <td>Eugénie Grandet</td>\n",
       "      <td>None</td>\n",
       "      <td>None</td>\n",
       "      <td>Eugénie Grandet</td>\n",
       "      <td>2021</td>\n",
       "      <td>103 min.</td>\n",
       "      <td>Francia</td>\n",
       "      <td>Marc Dugain</td>\n",
       "      <td>Marc Dugain. Novela: Honoré de Balzac</td>\n",
       "      <td>Jeremy Hababou</td>\n",
       "      <td>Gilles Porte</td>\n",
       "      <td>César Domboy, Olivier Gourmet, Joséphine Japy,...</td>\n",
       "      <td>Featuristic Films, High Sea Production</td>\n",
       "      <td>Drama | Siglo XIX</td>\n",
       "      <td>Adaptaciones de Honoré de Balzac</td>\n",
       "      <td>Felix Grandet reina supremo en su modesta casa...</td>\n",
       "      <td>NaN</td>\n",
       "    </tr>\n",
       "    <tr>\n",
       "      <th>0</th>\n",
       "      <td>Dilo alto y fuerte</td>\n",
       "      <td>5,7\\n25\\nvotos</td>\n",
       "      <td>25\\nvotos</td>\n",
       "      <td>Haut et fortaka</td>\n",
       "      <td>2021</td>\n",
       "      <td>101 min.</td>\n",
       "      <td>Marruecos</td>\n",
       "      <td>Nabil Ayouch</td>\n",
       "      <td>Nabil Ayouch</td>\n",
       "      <td>Mike Kourtzer, Fabien Kourtzer</td>\n",
       "      <td>Amine Messadi, Virginie Surdej</td>\n",
       "      <td>Ismail Adouab, Nouhaila Arif, Zineb Boujemaa, ...</td>\n",
       "      <td>Coproducción Marruecos-Francia; Ali n' Product...</td>\n",
       "      <td>Drama | Música. Hip Hop. Enseñanza</td>\n",
       "      <td>NaN</td>\n",
       "      <td>Anas es un exrapero que trabaja en un centro c...</td>\n",
       "      <td></td>\n",
       "    </tr>\n",
       "  </tbody>\n",
       "</table>\n",
       "</div>"
      ],
      "text/plain": [
       "                               Titulo             Nota       Votos  \\\n",
       "0  El gato con botas: El último deseo             None        None   \n",
       "0         I Wanna Dance with Somebody             None        None   \n",
       "0                              Broker  6,6\\n268\\nvotos  268\\nvotos   \n",
       "0                                 Ego  6,2\\n720\\nvotos  720\\nvotos   \n",
       "0                     Eugénie Grandet             None        None   \n",
       "0                  Dilo alto y fuerte   5,7\\n25\\nvotos   25\\nvotos   \n",
       "\n",
       "                Título original   Año  Duración             País  \\\n",
       "0  Puss in Boots: The Last Wish  2022  100 min.   Estados Unidos   \n",
       "0   I Wanna Dance with Somebody  2022       NaN   Estados Unidos   \n",
       "0                     Brokeraka  2022  129 min.    Corea del Sur   \n",
       "0               Pahanhautojaaka  2022   88 min.        Finlandia   \n",
       "0               Eugénie Grandet  2021  103 min.          Francia   \n",
       "0               Haut et fortaka  2021  101 min.        Marruecos   \n",
       "\n",
       "                       Dirección  \\\n",
       "0  Joel Crawford, Januel Mercado   \n",
       "0                   Kasi Lemmons   \n",
       "0               Hirokazu Koreeda   \n",
       "0                 Hanna Bergholm   \n",
       "0                    Marc Dugain   \n",
       "0                   Nabil Ayouch   \n",
       "\n",
       "                                               Guion  \\\n",
       "0  Paul Fisher, Tommy Swerdlow. Historia: Tommy S...   \n",
       "0                                   Anthony McCarten   \n",
       "0                                   Hirokazu Koreeda   \n",
       "0              Ilja Rautsi. Historia: Hanna Bergholm   \n",
       "0              Marc Dugain. Novela: Honoré de Balzac   \n",
       "0                                       Nabil Ayouch   \n",
       "\n",
       "                           Música                      Fotografía  \\\n",
       "0                  Heitor Pereira                       Animación   \n",
       "0                             NaN                   Barry Ackroyd   \n",
       "0                     Jung Jae-il                  Hong Kyung-pyo   \n",
       "0            Stein Berge Svendsen                 Jarkko T. Laine   \n",
       "0                  Jeremy Hababou                    Gilles Porte   \n",
       "0  Mike Kourtzer, Fabien Kourtzer  Amine Messadi, Virginie Surdej   \n",
       "\n",
       "                                             Reparto  \\\n",
       "0                                          Animación   \n",
       "0  Naomi Ackie, Ashton Sanders, Stanley Tucci, Cl...   \n",
       "0  Song Kang-ho, Gang Dong-won, Bae Doona, Lee Ji...   \n",
       "0  Siiri Solalinna, Sophia Heikkilä, Jani Volanen...   \n",
       "0  César Domboy, Olivier Gourmet, Joséphine Japy,...   \n",
       "0  Ismail Adouab, Nouhaila Arif, Zineb Boujemaa, ...   \n",
       "\n",
       "                                           Compañías  \\\n",
       "0  DreamWorks Animation, Pacific Data Images (PDI...   \n",
       "0  Coproducción Estados Unidos-Reino Unido; TriSt...   \n",
       "0                                         Zip Cinema   \n",
       "0  Coproducción Finlandia-Suecia; Silva Mysterium...   \n",
       "0             Featuristic Films, High Sea Production   \n",
       "0  Coproducción Marruecos-Francia; Ali n' Product...   \n",
       "\n",
       "                                              Género  \\\n",
       "0     Animación. Aventuras. Comedia | Gatos. Secuela   \n",
       "0                         Drama | Biográfico. Música   \n",
       "0                                              Drama   \n",
       "0  Terror. Thriller | Familia. Gimnasia. Thriller...   \n",
       "0                                  Drama | Siglo XIX   \n",
       "0                 Drama | Música. Hip Hop. Enseñanza   \n",
       "\n",
       "                                              Grupos  \\\n",
       "0  Shrek | DreamWorks Animation (Películas) | El ...   \n",
       "0                                                NaN   \n",
       "0                                                NaN   \n",
       "0                                                NaN   \n",
       "0                   Adaptaciones de Honoré de Balzac   \n",
       "0                                                NaN   \n",
       "\n",
       "                                            Sinopsis       \n",
       "0  Secuela de 'El gato con botas' (2011). El Gato...  NaN  \n",
       "0  Biopic sobre la cantante Whitney Houston. Un r...  NaN  \n",
       "0  Una noche lluviosa una joven abandona a su beb...       \n",
       "0  Tinja es una joven gimnasta que intenta desesp...       \n",
       "0  Felix Grandet reina supremo en su modesta casa...  NaN  \n",
       "0  Anas es un exrapero que trabaja en un centro c...       "
      ]
     },
     "execution_count": 104,
     "metadata": {},
     "output_type": "execute_result"
    }
   ],
   "source": [
    "df_peliculas"
   ]
  },
  {
   "cell_type": "markdown",
   "metadata": {},
   "source": [
    "Ya tenemos un dataframe con todas las películas que se van a estrenar el próximo viernes"
   ]
  }
 ],
 "metadata": {
  "hide_input": false,
  "kernelspec": {
   "display_name": "Python 3",
   "language": "python",
   "name": "python3"
  },
  "language_info": {
   "codemirror_mode": {
    "name": "ipython",
    "version": 3
   },
   "file_extension": ".py",
   "mimetype": "text/x-python",
   "name": "python",
   "nbconvert_exporter": "python",
   "pygments_lexer": "ipython3",
   "version": "3.11.1"
  },
  "nbTranslate": {
   "displayLangs": [
    "*"
   ],
   "hotkey": "alt-t",
   "langInMainMenu": true,
   "sourceLang": "en",
   "targetLang": "fr",
   "useGoogleTranslate": true
  },
  "varInspector": {
   "cols": {
    "lenName": 16,
    "lenType": 16,
    "lenVar": 40
   },
   "kernels_config": {
    "python": {
     "delete_cmd_postfix": "",
     "delete_cmd_prefix": "del ",
     "library": "var_list.py",
     "varRefreshCmd": "print(var_dic_list())"
    },
    "r": {
     "delete_cmd_postfix": ") ",
     "delete_cmd_prefix": "rm(",
     "library": "var_list.r",
     "varRefreshCmd": "cat(var_dic_list()) "
    }
   },
   "types_to_exclude": [
    "module",
    "function",
    "builtin_function_or_method",
    "instance",
    "_Feature"
   ],
   "window_display": false
  },
  "vscode": {
   "interpreter": {
    "hash": "92546a1ea8777b3e31bb31a9a0ff575d2102bf352f094edda3541741afae63c4"
   }
  }
 },
 "nbformat": 4,
 "nbformat_minor": 2
}
